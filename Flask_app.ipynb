{
 "cells": [
  {
   "cell_type": "code",
   "execution_count": null,
   "metadata": {},
   "outputs": [],
   "source": [
    "from flask import Flask, request, render_template, redirect, url_for\n",
    "from pymongo import MongoClient\n",
    "\n",
    "app = Flask(__name__)\n",
    "# Extracted MongoDB configuration from Docker Compose\n",
    "mongo_host = 'localhost'  # This should be the host where your MongoDB container is running\n",
    "mongo_port = 27017  # This should match the port you've mapped in Docker Compose\n",
    "mongo_username = 'admin11'  # MongoDB username\n",
    "mongo_password = '0000'  # MongoDB password\n",
    "mongo_database = 'MlopsdeadinsideDB'  # MongoDB database name\n",
    "\n",
    "# Construct MongoDB URI for Flask application\n",
    "mongodb_uri = f'mongodb://{mongo_username}:{mongo_password}@{mongo_host}:{mongo_port}/{mongo_database}'\n",
    "\n",
    "# Configure MongoDB\n",
    "app.config['MONGO_URI'] = mongodb_uri\n",
    "\n",
    "client = MongoClient(app.config['MONGO_URI'])\n",
    "db = client.get_database()\n",
    "\n",
    "@app.route('/', methods=['GET', 'POST'])\n",
    "def index():\n",
    "    if request.method == 'POST':\n",
    "        name = request.form['name']\n",
    "        username = request.form['username']\n",
    "        email = request.form['email']\n",
    "\n",
    "        users_collection = db.users  # Change \"users\" to the name of your MongoDB collection\n",
    "        user_data = {\n",
    "            'name': name,\n",
    "            'username': username,\n",
    "            'email': email\n",
    "        }\n",
    "        users_collection.insert_one(user_data)\n",
    "\n",
    "        return redirect(url_for('users'))\n",
    "\n",
    "    return render_template('index.html')\n",
    "\n",
    "@app.route('/users')\n",
    "def users():\n",
    "    users_collection = db.users  # Change \"users\" to the name of your MongoDB collection\n",
    "    data = users_collection.find()\n",
    "\n",
    "    return render_template('users.html', users=data)\n",
    "\n",
    "if __name__ == '__main__':\n",
    "    app.run(debug=True)\n"
   ]
  }
 ],
 "metadata": {
  "language_info": {
   "name": "python"
  },
  "orig_nbformat": 4
 },
 "nbformat": 4,
 "nbformat_minor": 2
}

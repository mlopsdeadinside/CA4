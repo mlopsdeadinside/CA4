{
 "cells": [
  {
   "cell_type": "code",
   "execution_count": null,
   "metadata": {},
   "outputs": [],
   "source": [
    "from flask import Flask, request, render_template, redirect, url_for\n",
    "from flask_mysqldb import MySQL\n",
    "\n",
    "app = Flask(__name__)\n",
    "\n",
    "# Configure MySQL\n",
    "app.config['MYSQL_HOST'] = 'localhost'\n",
    "app.config['MYSQL_USER'] = 'your_username'\n",
    "app.config['MYSQL_PASSWORD'] = 'your_password'\n",
    "app.config['MYSQL_DB'] = 'mydatabase'\n",
    "\n",
    "mysql = MySQL(app)\n",
    "\n",
    "@app.route('/', methods=['GET', 'POST'])\n",
    "def index():\n",
    "    if request.method == 'POST':\n",
    "        name = request.form['name']\n",
    "        username = request.form['username']\n",
    "        email = request.form['email']\n",
    "\n",
    "        cur = mysql.connection.cursor()\n",
    "        cur.execute(\"INSERT INTO users (name, username, email) VALUES (%s, %s, %s)\", (name, username, email))\n",
    "        mysql.connection.commit()\n",
    "        cur.close()\n",
    "\n",
    "        return redirect(url_for('users'))\n",
    "\n",
    "    return render_template('index.html')\n",
    "\n",
    "@app.route('/users')\n",
    "def users():\n",
    "    cur = mysql.connection.cursor()\n",
    "    cur.execute(\"SELECT * FROM users\")\n",
    "    data = cur.fetchall()\n",
    "    cur.close()\n",
    "\n",
    "    return render_template('users.html', users=data)\n",
    "\n",
    "if __name__ == '__main__':\n",
    "    app.run(debug=True)\n"
   ]
  }
 ],
 "metadata": {
  "language_info": {
   "name": "python"
  },
  "orig_nbformat": 4
 },
 "nbformat": 4,
 "nbformat_minor": 2
}
